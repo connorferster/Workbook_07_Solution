{
 "cells": [
  {
   "cell_type": "code",
   "execution_count": 1,
   "metadata": {},
   "outputs": [],
   "source": [
    "import handcalcs.render\n",
    "import forallpeople\n",
    "from calcs import title_block\n",
    "forallpeople.environment('structural', top_level=True)\n",
    "\n",
    "from math import sin, pi, sqrt"
   ]
  },
  {
   "cell_type": "code",
   "execution_count": 2,
   "metadata": {},
   "outputs": [
    {
     "data": {
      "text/markdown": [
       "## Design Notes<br>\n",
       "**Project:** _My Project_<br>\n",
       "**Project ID:** _VAN.123456.0001_<br>\n",
       "**Designer:** _CMF_<br>\n",
       "**Date:** _2022-04-12_<br>\n"
      ],
      "text/plain": [
       "<IPython.core.display.Markdown object>"
      ]
     },
     "metadata": {},
     "output_type": "display_data"
    }
   ],
   "source": [
    "title_block(\"My Project\", \"VAN.123456.0001\", \"CMF\")"
   ]
  },
  {
   "cell_type": "markdown",
   "metadata": {},
   "source": [
    "# Bending and Torsional Buckling Check of Plate Sections"
   ]
  },
  {
   "cell_type": "code",
   "execution_count": 3,
   "metadata": {},
   "outputs": [],
   "source": [
    "## Inputs\n",
    "d = 155*mm\n",
    "t = 10*mm\n",
    "\n",
    "phi = 0.9\n",
    "F_y = 350*MPa\n",
    "E_mod = 200*GPa\n",
    "G_mod = 77*GPa\n",
    "\n",
    "L = (2*ft + 10*inch)\n",
    "k = 2.5\n",
    "omega_2 = 1.0 #Single curvature\n",
    "M_f = 7.895*kN*m"
   ]
  },
  {
   "cell_type": "code",
   "execution_count": null,
   "metadata": {},
   "outputs": [],
   "source": []
  },
  {
   "cell_type": "markdown",
   "metadata": {},
   "source": [
    "## Section Parameters"
   ]
  },
  {
   "cell_type": "code",
   "execution_count": 4,
   "metadata": {},
   "outputs": [
    {
     "data": {
      "text/latex": [
       "\\[\n",
       "\\begin{aligned}\n",
       "d &= 155.000\\ \\text{mm} \\; \n",
       " &t &= 10.000\\ \\text{mm} \\; \n",
       " &A &= 1550.000\\ \\text{mm}^{2} \\; \n",
       "\\\\[10pt]\n",
       " S_{x} &= 40041.667\\ \\text{mm}^{3} \\; \n",
       " &I_{x} &= 3103229.167\\ \\text{mm}^{4} \\; \n",
       " &I_{y} &= 12916.667\\ \\text{mm}^{4} \\; \n",
       "\\\\[10pt]\\end{aligned}\n",
       "\\]"
      ],
      "text/plain": [
       "<IPython.core.display.Latex object>"
      ]
     },
     "metadata": {},
     "output_type": "display_data"
    }
   ],
   "source": [
    "%%render params\n",
    "d\n",
    "t\n",
    "A =d*t\n",
    "S_x = (t*d**2) / 6\n",
    "I_x = (t*d**3)/12\n",
    "I_y = (d*t**3)/12"
   ]
  },
  {
   "cell_type": "markdown",
   "metadata": {},
   "source": [
    "### Calculate Torsional Constant, J\n",
    "Calculation taken from:<br>\n",
    "Seaburg, Paul A.; Carter, Charles J., \"Torsional Analysis of Structural Steel Members\", AISC Steel Design Guide Series 9, 1997\n",
    "\n",
    "https://user.eng.umd.edu/~ccfu/ref/Design-Guide-9-torsion.pdf"
   ]
  },
  {
   "cell_type": "code",
   "execution_count": 5,
   "metadata": {},
   "outputs": [
    {
     "data": {
      "text/latex": [
       "\\[\n",
       "\\begin{aligned}\n",
       "&\\text{Since, } \\left( \\frac{ d }{ t } \\right) \\gt 10 \\rightarrow \\left( \\left( \\frac{ 155.000\\ \\text{mm} }{ 10.000\\ \\text{mm} } \\right) \\gt 10 \\right) :   \\end{aligned}\n",
       "\\]\n",
       "\\[\n",
       "\\begin{aligned}\n",
       "J &= \\frac{ d \\cdot \\left( t \\right) ^{ 3 } }{ 3 }  = \\frac{ 155.000\\ \\text{mm} \\cdot \\left( 10.000\\ \\text{mm} \\right) ^{ 3 } }{ 3 } &= 51666.667\\ \\text{mm}^{4}  \n",
       "\\end{aligned}\n",
       "\\]"
      ],
      "text/plain": [
       "<IPython.core.display.Latex object>"
      ]
     },
     "metadata": {},
     "output_type": "display_data"
    }
   ],
   "source": [
    "%%render\n",
    "if (d/t) > 10: J = (d*t**3)/3\n",
    "elif (d/t) <= 10: J = (1/3 - 1/5*t/d)*d*t**3\n"
   ]
  },
  {
   "cell_type": "markdown",
   "metadata": {},
   "source": [
    "## Material Parameters"
   ]
  },
  {
   "cell_type": "code",
   "execution_count": 6,
   "metadata": {},
   "outputs": [
    {
     "data": {
      "text/latex": [
       "\\[\n",
       "\\begin{aligned}\n",
       "\\phi &= 0.9 \\; \n",
       " &F_{y} &= 350.000\\ \\text{MPa} \\; \n",
       " &E_{mod} &= 200.000\\ \\text{GPa} \\; \n",
       "\\\\[10pt]\n",
       " G_{mod} &= 77.000\\ \\text{GPa} \\;\\end{aligned}\n",
       "\\]"
      ],
      "text/plain": [
       "<IPython.core.display.Latex object>"
      ]
     },
     "metadata": {},
     "output_type": "display_data"
    }
   ],
   "source": [
    "%%render params\n",
    "phi\n",
    "F_y\n",
    "E_mod\n",
    "G_mod"
   ]
  },
  {
   "cell_type": "markdown",
   "metadata": {},
   "source": [
    "## Loading Parameters"
   ]
  },
  {
   "cell_type": "code",
   "execution_count": 7,
   "metadata": {},
   "outputs": [
    {
     "data": {
      "text/latex": [
       "\\[\n",
       "\\begin{aligned}\n",
       "L &= 2.833\\ \\text{ft} \\; \n",
       " &k &= 2.5 \\; \n",
       " &\\omega_{2} &= 1.0 \\; \n",
       "\\\\[10pt]\n",
       " M_{f} &= 7.895\\ \\text{kN} \\cdot \\text{m} \\;\\end{aligned}\n",
       "\\]"
      ],
      "text/plain": [
       "<IPython.core.display.Latex object>"
      ]
     },
     "metadata": {},
     "output_type": "display_data"
    }
   ],
   "source": [
    "%%render params\n",
    "L\n",
    "k\n",
    "omega_2\n",
    "M_f"
   ]
  },
  {
   "cell_type": "markdown",
   "metadata": {},
   "source": [
    "## Section Class Check"
   ]
  },
  {
   "cell_type": "code",
   "execution_count": 8,
   "metadata": {},
   "outputs": [],
   "source": [
    "from math import sqrt"
   ]
  },
  {
   "cell_type": "code",
   "execution_count": 9,
   "metadata": {},
   "outputs": [
    {
     "data": {
      "text/latex": [
       "\\[\n",
       "\\begin{aligned}\n",
       "b_{el} &= 155.000\\ \\text{mm} \\; \n",
       "\\\\[10pt]\n",
       "\\mathrm{check}_{stem} &= \\frac{ b_{el} }{ t }  = \\frac{ 155.000\\ \\text{mm} }{ 10.000\\ \\text{mm} } &= 15.5  \n",
       "\\\\[10pt]\n",
       "&\\text{Since, } \\mathrm{check}_{stem} \\gt \\frac{ 200 }{ \\sqrt { F_{y} } } \\rightarrow \\left( 15.5 \\gt \\frac{ 200 }{ \\sqrt { 350.000\\ \\text{MPa} } } \\right) :   \\end{aligned}\n",
       "\\]\n",
       "\\[\n",
       "\\begin{aligned}\n",
       "\\mathrm{classification} &= 4 \\; \n",
       "\\end{aligned}\n",
       "\\]"
      ],
      "text/plain": [
       "<IPython.core.display.Latex object>"
      ]
     },
     "metadata": {},
     "output_type": "display_data"
    }
   ],
   "source": [
    "%%render\n",
    "b_el = d\n",
    "check_stem = b_el / t\n",
    "if check_stem <= 145 / (sqrt(F_y)): classification = 1\n",
    "elif check_stem <= 170 / (sqrt(F_y)): classification = 2\n",
    "elif check_stem <= 200 / (sqrt(F_y)): classification = 3\n",
    "elif check_stem > 200 / (sqrt(F_y)): classification = 4"
   ]
  },
  {
   "cell_type": "markdown",
   "metadata": {},
   "source": [
    "## Calculated Properties"
   ]
  },
  {
   "cell_type": "code",
   "execution_count": 10,
   "metadata": {},
   "outputs": [
    {
     "data": {
      "text/latex": [
       "\\[\n",
       "\\begin{aligned}\n",
       "L_{eff} &= k \\cdot L  = 2.5 \\cdot 2.833\\ \\text{ft} &= 7.083\\ \\text{ft}  \n",
       "\\end{aligned}\n",
       "\\]"
      ],
      "text/plain": [
       "<IPython.core.display.Latex object>"
      ]
     },
     "metadata": {},
     "output_type": "display_data"
    }
   ],
   "source": [
    "%%render\n",
    "L_eff = k * L"
   ]
  },
  {
   "cell_type": "markdown",
   "metadata": {},
   "source": [
    "## Critical Elastic Moment"
   ]
  },
  {
   "cell_type": "code",
   "execution_count": 11,
   "metadata": {},
   "outputs": [],
   "source": [
    "def sqrt(x):\n",
    "    return x**0.5"
   ]
  },
  {
   "cell_type": "code",
   "execution_count": 12,
   "metadata": {},
   "outputs": [
    {
     "data": {
      "text/latex": [
       "\\[\n",
       "\\begin{aligned}\n",
       "M_{u} &= \\frac{ \\omega_{2} \\cdot \\pi }{ L_{eff} } \\cdot \\sqrt { E_{mod} \\cdot I_{y} \\cdot G_{mod} \\cdot J } \\\\&= \\frac{ 1.0 \\cdot 3.142 }{ 7.083\\ \\text{ft} } \\cdot \\sqrt { 200.000\\ \\text{GPa} \\cdot 12916.667\\ \\text{mm}^{4} \\cdot 77.000\\ \\text{GPa} \\cdot 51666.667\\ \\text{mm}^{4} } \\\\&= 4.665\\ \\text{kN} \\cdot \\text{m}  \\\\\n",
       "\\end{aligned}\n",
       "\\]"
      ],
      "text/plain": [
       "<IPython.core.display.Latex object>"
      ]
     },
     "metadata": {},
     "output_type": "display_data"
    }
   ],
   "source": [
    "%%render long\n",
    "M_u = (omega_2 * pi) / (L_eff) * sqrt(E_mod*I_y*G_mod*J)"
   ]
  },
  {
   "cell_type": "markdown",
   "metadata": {},
   "source": [
    "## Yield Moment"
   ]
  },
  {
   "cell_type": "code",
   "execution_count": 13,
   "metadata": {},
   "outputs": [
    {
     "data": {
      "text/latex": [
       "\\[\n",
       "\\begin{aligned}\n",
       "M_{y} &= \\phi \\cdot S_{x} \\cdot F_{y}  = 0.9 \\cdot 40041.667\\ \\text{mm}^{3} \\cdot 350.000\\ \\text{MPa} &= 12.613\\ \\text{kN} \\cdot \\text{m}  \n",
       "\\end{aligned}\n",
       "\\]"
      ],
      "text/plain": [
       "<IPython.core.display.Latex object>"
      ]
     },
     "metadata": {},
     "output_type": "display_data"
    }
   ],
   "source": [
    "%%render\n",
    "M_y = phi*S_x * F_y"
   ]
  },
  {
   "cell_type": "markdown",
   "metadata": {},
   "source": [
    "## Factored Moment Resistance"
   ]
  },
  {
   "cell_type": "code",
   "execution_count": 14,
   "metadata": {},
   "outputs": [
    {
     "data": {
      "text/latex": [
       "\\[\n",
       "\\begin{aligned}\n",
       "&\\text{Since, } M_{u} \\leq 0.67 \\cdot M_{y} \\rightarrow \\left( 4.665\\ \\text{kN} \\cdot \\text{m} \\leq 0.67 \\cdot 12.613\\ \\text{kN} \\cdot \\text{m} \\right) :   \\end{aligned}\n",
       "\\]\n",
       "\\[\n",
       "\\begin{aligned}\n",
       "M_{r} &= \\phi \\cdot M_{u} \\\\&= 0.9 \\cdot 4.665\\ \\text{kN} \\cdot \\text{m} \\\\&= 4.198\\ \\text{kN} \\cdot \\text{m}  \\\\\n",
       "\\end{aligned}\n",
       "\\]"
      ],
      "text/plain": [
       "<IPython.core.display.Latex object>"
      ]
     },
     "metadata": {},
     "output_type": "display_data"
    }
   ],
   "source": [
    "%%render long\n",
    "if M_u > 0.67*M_y: M_r = 1.15*phi*M_y*((1 - (0.28*M_y)/(M_u)))\n",
    "elif M_u<= 0.67*M_y: M_r = phi * M_u"
   ]
  },
  {
   "cell_type": "markdown",
   "metadata": {},
   "source": [
    "## Demand Capacity Ratio"
   ]
  },
  {
   "cell_type": "code",
   "execution_count": 15,
   "metadata": {},
   "outputs": [
    {
     "data": {
      "text/latex": [
       "\\[\n",
       "\\begin{aligned}\n",
       "\\mathrm{DCR} &= \\frac{ M_{f} }{ M_{r} }  = \\frac{ 7.895\\ \\text{kN} \\cdot \\text{m} }{ 4.198\\ \\text{kN} \\cdot \\text{m} } &= 1.88  \n",
       "\\end{aligned}\n",
       "\\]"
      ],
      "text/plain": [
       "<IPython.core.display.Latex object>"
      ]
     },
     "metadata": {},
     "output_type": "display_data"
    }
   ],
   "source": [
    "%%render\n",
    "DCR = M_f/M_r"
   ]
  }
 ],
 "metadata": {
  "kernelspec": {
   "display_name": "Python 3 (ipykernel)",
   "language": "python",
   "name": "python3"
  },
  "language_info": {
   "codemirror_mode": {
    "name": "ipython",
    "version": 3
   },
   "file_extension": ".py",
   "mimetype": "text/x-python",
   "name": "python",
   "nbconvert_exporter": "python",
   "pygments_lexer": "ipython3",
   "version": "3.9.7"
  }
 },
 "nbformat": 4,
 "nbformat_minor": 4
}
